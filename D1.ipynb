{
 "cells": [
  {
   "cell_type": "markdown",
   "metadata": {},
   "source": [
    "# Markdown\n",
    "## Markdown\n",
    "### Markdown\n",
    "#### Markdown\n",
    "##### Markdown\n",
    "###### Markdown"
   ]
  },
  {
   "cell_type": "markdown",
   "metadata": {},
   "source": [
    "- Point 1\n",
    "- Point 2\n",
    " - S.Point 2.1\n",
    "    - *SS.Point 2.1.1*\n",
    "    - **SS.Point 2.1.2**\n",
    "    - ***SS.point 2.1.3***"
   ]
  },
  {
   "cell_type": "code",
   "execution_count": 2,
   "metadata": {},
   "outputs": [
    {
     "name": "stdout",
     "output_type": "stream",
     "text": [
      "Hello World\n",
      "welcome\n"
     ]
    }
   ],
   "source": [
    "print (\"Hello World\")\n",
    "print (\"welcome\")"
   ]
  },
  {
   "cell_type": "code",
   "execution_count": 3,
   "metadata": {},
   "outputs": [
    {
     "name": "stdout",
     "output_type": "stream",
     "text": [
      "MarkdownCode\n"
     ]
    }
   ],
   "source": [
    "print(\"Markdown\",end='')\n",
    "print(\"Code\")"
   ]
  },
  {
   "cell_type": "code",
   "execution_count": 4,
   "metadata": {},
   "outputs": [
    {
     "name": "stdout",
     "output_type": "stream",
     "text": [
      "Markdown|Code\n"
     ]
    }
   ],
   "source": [
    "print(\"Markdown\",end='|')\n",
    "print(\"Code\")"
   ]
  },
  {
   "cell_type": "code",
   "execution_count": 1,
   "metadata": {},
   "outputs": [
    {
     "name": "stdout",
     "output_type": "stream",
     "text": [
      "Enter your name:\n",
      "charan\n",
      "Your name is  charan\n"
     ]
    }
   ],
   "source": [
    "#input function\n",
    "print(\"Enter your name:\")\n",
    "a=input('')\n",
    "print(\"Your name is \",a)"
   ]
  },
  {
   "cell_type": "code",
   "execution_count": 2,
   "metadata": {},
   "outputs": [
    {
     "name": "stdout",
     "output_type": "stream",
     "text": [
      "enter your name:charan\n",
      "Your name is charan\n"
     ]
    }
   ],
   "source": [
    "a=input(\"enter your name:\")\n",
    "print(\"Your name is\",a)"
   ]
  },
  {
   "cell_type": "code",
   "execution_count": 5,
   "metadata": {},
   "outputs": [
    {
     "name": "stdout",
     "output_type": "stream",
     "text": [
      "5\n",
      "4\n",
      "9\n"
     ]
    }
   ],
   "source": [
    "a=int(input())\n",
    "b=int(input())\n",
    "print(a+b)"
   ]
  },
  {
   "cell_type": "code",
   "execution_count": 6,
   "metadata": {},
   "outputs": [
    {
     "data": {
      "text/plain": [
       "20"
      ]
     },
     "execution_count": 6,
     "metadata": {},
     "output_type": "execute_result"
    }
   ],
   "source": [
    "a*b"
   ]
  },
  {
   "cell_type": "code",
   "execution_count": 14,
   "metadata": {},
   "outputs": [
    {
     "name": "stdout",
     "output_type": "stream",
     "text": [
      "20.5\n"
     ]
    },
    {
     "data": {
      "text/plain": [
       "float"
      ]
     },
     "execution_count": 14,
     "metadata": {},
     "output_type": "execute_result"
    }
   ],
   "source": [
    "a=10\n",
    "x=10.5\n",
    "print(a+x)\n",
    "type(x+a)"
   ]
  },
  {
   "cell_type": "code",
   "execution_count": 13,
   "metadata": {},
   "outputs": [
    {
     "data": {
      "text/plain": [
       "2516143789736"
      ]
     },
     "execution_count": 13,
     "metadata": {},
     "output_type": "execute_result"
    }
   ],
   "source": [
    "id(x+a)"
   ]
  },
  {
   "cell_type": "code",
   "execution_count": 17,
   "metadata": {},
   "outputs": [
    {
     "name": "stdout",
     "output_type": "stream",
     "text": [
      "(8+11.1j)\n"
     ]
    },
    {
     "data": {
      "text/plain": [
       "complex"
      ]
     },
     "execution_count": 17,
     "metadata": {},
     "output_type": "execute_result"
    }
   ],
   "source": [
    "c=5+6.5j\n",
    "d=3+4.6j\n",
    "print(c+d)\n",
    "type(c)"
   ]
  },
  {
   "cell_type": "code",
   "execution_count": 22,
   "metadata": {},
   "outputs": [
    {
     "name": "stdout",
     "output_type": "stream",
     "text": [
      "<class 'float'>\n"
     ]
    },
    {
     "data": {
      "text/plain": [
       "12"
      ]
     },
     "execution_count": 22,
     "metadata": {},
     "output_type": "execute_result"
    }
   ],
   "source": [
    "b=12.35453\n",
    "print(type(b))\n",
    "int(b)"
   ]
  },
  {
   "cell_type": "code",
   "execution_count": 23,
   "metadata": {},
   "outputs": [
    {
     "data": {
      "text/plain": [
       "(12.35453+0j)"
      ]
     },
     "execution_count": 23,
     "metadata": {},
     "output_type": "execute_result"
    }
   ],
   "source": [
    "complex(b)"
   ]
  },
  {
   "cell_type": "code",
   "execution_count": 26,
   "metadata": {},
   "outputs": [
    {
     "data": {
      "text/plain": [
       "(10+13.3j)"
      ]
     },
     "execution_count": 26,
     "metadata": {},
     "output_type": "execute_result"
    }
   ],
   "source": [
    "a=10\n",
    "b=13.3\n",
    "complex(a,b)"
   ]
  },
  {
   "cell_type": "code",
   "execution_count": 30,
   "metadata": {},
   "outputs": [
    {
     "data": {
      "text/plain": [
       "7"
      ]
     },
     "execution_count": 30,
     "metadata": {},
     "output_type": "execute_result"
    }
   ],
   "source": [
    "b=\"bye bye\"\n",
    "len(b)"
   ]
  },
  {
   "cell_type": "code",
   "execution_count": 32,
   "metadata": {},
   "outputs": [
    {
     "data": {
      "text/plain": [
       "bool"
      ]
     },
     "execution_count": 32,
     "metadata": {},
     "output_type": "execute_result"
    }
   ],
   "source": [
    "c= True\n",
    "type(c)"
   ]
  },
  {
   "cell_type": "code",
   "execution_count": 33,
   "metadata": {},
   "outputs": [
    {
     "data": {
      "text/plain": [
       "str"
      ]
     },
     "execution_count": 33,
     "metadata": {},
     "output_type": "execute_result"
    }
   ],
   "source": [
    "c=\"int\"\n",
    "type(c)"
   ]
  },
  {
   "cell_type": "code",
   "execution_count": 43,
   "metadata": {},
   "outputs": [
    {
     "data": {
      "text/plain": [
       "9"
      ]
     },
     "execution_count": 43,
     "metadata": {},
     "output_type": "execute_result"
    }
   ],
   "source": [
    "len(c+\"strlen\")"
   ]
  },
  {
   "cell_type": "code",
   "execution_count": 47,
   "metadata": {},
   "outputs": [
    {
     "name": "stdout",
     "output_type": "stream",
     "text": [
      "<class 'str'>\n"
     ]
    },
    {
     "data": {
      "text/plain": [
       "float"
      ]
     },
     "execution_count": 47,
     "metadata": {},
     "output_type": "execute_result"
    }
   ],
   "source": [
    "a=\"100\"\n",
    "print(type(a))\n",
    "b=float(a)\n",
    "type(b)"
   ]
  },
  {
   "cell_type": "code",
   "execution_count": 48,
   "metadata": {},
   "outputs": [
    {
     "data": {
      "text/plain": [
       "100.0"
      ]
     },
     "execution_count": 48,
     "metadata": {},
     "output_type": "execute_result"
    }
   ],
   "source": [
    "b"
   ]
  },
  {
   "cell_type": "code",
   "execution_count": 53,
   "metadata": {},
   "outputs": [
    {
     "name": "stdout",
     "output_type": "stream",
     "text": [
      "<class 'str'>\n",
      "54\n",
      "<class 'int'>\n"
     ]
    }
   ],
   "source": [
    "a=\"112123123412345123456123456712345678123456789123457890\"\n",
    "b=len(a)\n",
    "c=int(a)\n",
    "print(type(a))\n",
    "print(b)\n",
    "print(type(c))"
   ]
  },
  {
   "cell_type": "code",
   "execution_count": 54,
   "metadata": {},
   "outputs": [
    {
     "data": {
      "text/plain": [
       "54"
      ]
     },
     "execution_count": 54,
     "metadata": {},
     "output_type": "execute_result"
    }
   ],
   "source": [
    "a=112123123412345123456123456712345678123456789123457890\n",
    "len(str(a))"
   ]
  },
  {
   "cell_type": "code",
   "execution_count": 62,
   "metadata": {},
   "outputs": [
    {
     "name": "stdout",
     "output_type": "stream",
     "text": [
      "+ 14 \n",
      " - -4 \n",
      " * 45 \n",
      " / 1.8 \n",
      " % 5 \n",
      " // 1 \n",
      " ** 1953125\n"
     ]
    }
   ],
   "source": [
    "a=5\n",
    "b=9\n",
    "print(\"+\",a+b,\"\\n -\",a-b,\"\\n *\",a*b,\"\\n /\",b/a ,\"\\n %\",a%b,\"\\n //\",b//a,\"\\n **\",a**b)"
   ]
  },
  {
   "cell_type": "code",
   "execution_count": 64,
   "metadata": {},
   "outputs": [
    {
     "name": "stdout",
     "output_type": "stream",
     "text": [
      "True\n"
     ]
    }
   ],
   "source": [
    "print(a>b or a+4==b)"
   ]
  },
  {
   "cell_type": "code",
   "execution_count": 65,
   "metadata": {},
   "outputs": [
    {
     "name": "stdout",
     "output_type": "stream",
     "text": [
      "False\n"
     ]
    }
   ],
   "source": [
    "print (a>b and a+4==b)"
   ]
  },
  {
   "cell_type": "code",
   "execution_count": 66,
   "metadata": {},
   "outputs": [
    {
     "data": {
      "text/plain": [
       "False"
      ]
     },
     "execution_count": 66,
     "metadata": {},
     "output_type": "execute_result"
    }
   ],
   "source": [
    "not a"
   ]
  },
  {
   "cell_type": "code",
   "execution_count": 67,
   "metadata": {},
   "outputs": [
    {
     "data": {
      "text/plain": [
       "True"
      ]
     },
     "execution_count": 67,
     "metadata": {},
     "output_type": "execute_result"
    }
   ],
   "source": [
    "a=0\n",
    "not a"
   ]
  },
  {
   "cell_type": "code",
   "execution_count": 69,
   "metadata": {},
   "outputs": [
    {
     "data": {
      "text/plain": [
       "False"
      ]
     },
     "execution_count": 69,
     "metadata": {},
     "output_type": "execute_result"
    }
   ],
   "source": [
    "a>=b"
   ]
  },
  {
   "cell_type": "code",
   "execution_count": 70,
   "metadata": {},
   "outputs": [
    {
     "data": {
      "text/plain": [
       "True"
      ]
     },
     "execution_count": 70,
     "metadata": {},
     "output_type": "execute_result"
    }
   ],
   "source": [
    "a<b"
   ]
  },
  {
   "cell_type": "code",
   "execution_count": 75,
   "metadata": {},
   "outputs": [
    {
     "name": "stdout",
     "output_type": "stream",
     "text": [
      "True\n",
      "True\n"
     ]
    }
   ],
   "source": [
    "s=\"string\"\n",
    "print(\"g\" in s)\n",
    "print(\"G\" not in s)"
   ]
  },
  {
   "cell_type": "code",
   "execution_count": 76,
   "metadata": {},
   "outputs": [
    {
     "name": "stdout",
     "output_type": "stream",
     "text": [
      "YES S\n"
     ]
    }
   ],
   "source": [
    "a=\"HAha\"\n",
    "if(a==0):\n",
    "    print(\"YES\")\n",
    "elif(a==\"HAha\"):\n",
    "    print(\"YES S\")\n",
    "else:\n",
    "    print(\"NO\")"
   ]
  },
  {
   "cell_type": "code",
   "execution_count": 77,
   "metadata": {},
   "outputs": [
    {
     "name": "stdout",
     "output_type": "stream",
     "text": [
      "10\n",
      "0\n",
      "1\n",
      "2\n",
      "3\n",
      "4\n",
      "5\n",
      "6\n",
      "7\n",
      "8\n",
      "9\n"
     ]
    }
   ],
   "source": [
    "n=int(input())\n",
    "for i in range(0,n):\n",
    "    print(i)"
   ]
  },
  {
   "cell_type": "code",
   "execution_count": 79,
   "metadata": {},
   "outputs": [
    {
     "name": "stdout",
     "output_type": "stream",
     "text": [
      "30\n",
      "YES\n"
     ]
    }
   ],
   "source": [
    "n=int(input())\n",
    "if(n%3==0 and n%5==0):\n",
    "    print(\"YES\")\n",
    "else:\n",
    "    print(\"NO\")"
   ]
  },
  {
   "cell_type": "code",
   "execution_count": 81,
   "metadata": {},
   "outputs": [
    {
     "name": "stdout",
     "output_type": "stream",
     "text": [
      "-54\n",
      "-ve\n"
     ]
    }
   ],
   "source": [
    "n=int(input())\n",
    "if(n>0):\n",
    "    print(\"+ve\")\n",
    "elif(n<0):\n",
    "    print(\"-ve\")\n",
    "else:\n",
    "    print(\"0\")"
   ]
  },
  {
   "cell_type": "code",
   "execution_count": 87,
   "metadata": {},
   "outputs": [
    {
     "name": "stdout",
     "output_type": "stream",
     "text": [
      "2020\n",
      "LEAP\n"
     ]
    }
   ],
   "source": [
    "n=int(input())\n",
    "if(n%4==0 ):\n",
    "    print(\"LEAP\")\n",
    "else:\n",
    "    print(\"NOT A LEAP\")"
   ]
  },
  {
   "cell_type": "code",
   "execution_count": 6,
   "metadata": {},
   "outputs": [
    {
     "name": "stdout",
     "output_type": "stream",
     "text": [
      "54\n",
      "USING WHILE USING WHILE USING WHILE USING WHILE USING WHILE USING WHILE USING WHILE USING WHILE USING WHILE USING WHILE USING WHILE USING WHILE USING WHILE USING WHILE USING WHILE USING WHILE USING WHILE USING WHILE USING WHILE USING WHILE USING WHILE USING WHILE USING WHILE USING WHILE USING WHILE USING WHILE USING WHILE USING WHILE USING WHILE USING WHILE USING WHILE USING WHILE USING WHILE USING WHILE USING WHILE USING WHILE USING WHILE USING WHILE USING WHILE USING WHILE USING WHILE USING WHILE USING WHILE USING WHILE USING WHILE USING WHILE USING WHILE USING WHILE USING WHILE USING WHILE USING WHILE USING WHILE USING WHILE USING WHILE \n",
      "\n",
      "USING FOR USING FOR USING FOR USING FOR USING FOR USING FOR USING FOR USING FOR USING FOR USING FOR USING FOR USING FOR USING FOR USING FOR USING FOR USING FOR USING FOR USING FOR USING FOR USING FOR USING FOR USING FOR USING FOR USING FOR USING FOR USING FOR USING FOR USING FOR USING FOR USING FOR USING FOR USING FOR USING FOR USING FOR USING FOR USING FOR USING FOR USING FOR USING FOR USING FOR USING FOR USING FOR USING FOR USING FOR USING FOR USING FOR USING FOR USING FOR USING FOR USING FOR USING FOR USING FOR USING FOR USING FOR "
     ]
    }
   ],
   "source": [
    "n=int(input())\n",
    "i=0\n",
    "while(i<n):\n",
    "    print(\"USING WHILE\",end=' ')\n",
    "    i=i+1\n",
    "print(\"\\n\")\n",
    "for j in range(0,n):\n",
    "    print(\"USING FOR\",end=\" \")"
   ]
  },
  {
   "cell_type": "code",
   "execution_count": 4,
   "metadata": {},
   "outputs": [
    {
     "name": "stdout",
     "output_type": "stream",
     "text": [
      "252\n",
      "GITAM GITAM GITAM GITAM GITAM GITAM GITAM GITAM GITAM GITAM GITAM GITAM GITAM GITAM GITAM GITAM GITAM GITAM GITAM GITAM GITAM GITAM GITAM GITAM GITAM GITAM GITAM GITAM GITAM GITAM GITAM GITAM GITAM GITAM GITAM GITAM GITAM GITAM GITAM GITAM GITAM GITAM GITAM GITAM GITAM GITAM GITAM GITAM GITAM GITAM GITAM GITAM GITAM GITAM GITAM GITAM GITAM GITAM GITAM GITAM GITAM GITAM GITAM GITAM GITAM GITAM GITAM GITAM GITAM GITAM GITAM GITAM GITAM GITAM GITAM GITAM GITAM GITAM GITAM GITAM GITAM GITAM GITAM GITAM GITAM GITAM GITAM GITAM GITAM GITAM GITAM GITAM GITAM GITAM GITAM GITAM GITAM GITAM GITAM GITAM GITAM GITAM GITAM GITAM GITAM GITAM GITAM GITAM GITAM GITAM GITAM GITAM GITAM GITAM GITAM GITAM GITAM GITAM GITAM GITAM GITAM GITAM GITAM GITAM GITAM GITAM GITAM GITAM GITAM GITAM GITAM GITAM GITAM GITAM GITAM GITAM GITAM GITAM GITAM GITAM GITAM GITAM GITAM GITAM GITAM GITAM GITAM GITAM GITAM GITAM GITAM GITAM GITAM GITAM GITAM GITAM GITAM GITAM GITAM GITAM GITAM GITAM GITAM GITAM GITAM GITAM GITAM GITAM GITAM GITAM GITAM GITAM GITAM GITAM GITAM GITAM GITAM GITAM GITAM GITAM GITAM GITAM GITAM GITAM GITAM GITAM GITAM GITAM GITAM GITAM GITAM GITAM GITAM GITAM GITAM GITAM GITAM GITAM GITAM GITAM GITAM GITAM GITAM GITAM GITAM GITAM GITAM GITAM GITAM GITAM GITAM GITAM GITAM GITAM GITAM GITAM GITAM GITAM GITAM GITAM GITAM GITAM GITAM GITAM GITAM GITAM GITAM GITAM GITAM GITAM GITAM GITAM GITAM GITAM GITAM GITAM GITAM GITAM GITAM GITAM GITAM GITAM GITAM GITAM GITAM GITAM GITAM GITAM GITAM GITAM GITAM GITAM "
     ]
    }
   ],
   "source": [
    "n=int(input())\n",
    "for i in range(0,n):\n",
    "    print(\"GITAM\",end=\" \")"
   ]
  },
  {
   "cell_type": "code",
   "execution_count": null,
   "metadata": {},
   "outputs": [],
   "source": []
  }
 ],
 "metadata": {
  "kernelspec": {
   "display_name": "Python 3",
   "language": "python",
   "name": "python3"
  },
  "language_info": {
   "codemirror_mode": {
    "name": "ipython",
    "version": 3
   },
   "file_extension": ".py",
   "mimetype": "text/x-python",
   "name": "python",
   "nbconvert_exporter": "python",
   "pygments_lexer": "ipython3",
   "version": "3.7.3"
  }
 },
 "nbformat": 4,
 "nbformat_minor": 2
}
